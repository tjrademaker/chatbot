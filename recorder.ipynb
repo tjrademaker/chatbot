{
 "cells": [
  {
   "cell_type": "code",
   "execution_count": 1,
   "id": "ea68462b-a3b4-4ab8-b5b1-1e048d3dd647",
   "metadata": {},
   "outputs": [],
   "source": [
    "import speech_recognition as sr\n",
    "from IPython.display import clear_output, display, HTML\n",
    "import ipywidgets as widgets"
   ]
  },
  {
   "cell_type": "code",
   "execution_count": 2,
   "id": "c6399621-67ee-4d59-87f6-880bc0dc0f34",
   "metadata": {},
   "outputs": [],
   "source": [
    "def pretty_print(x):    \n",
    "    return display( HTML( x.replace(\"\\n\",\"<br>\") ) )"
   ]
  },
  {
   "cell_type": "markdown",
   "id": "17e1515d-9f6d-44c9-b3f0-2e0831cd0762",
   "metadata": {},
   "source": [
    "## Microphone widget"
   ]
  },
  {
   "cell_type": "code",
   "execution_count": 5,
   "id": "eaa9ee07-c2de-48b6-a1a5-63ac02853268",
   "metadata": {},
   "outputs": [],
   "source": [
    "def recording():\n",
    "    \n",
    "    r = sr.Recognizer()\n",
    "    mic = sr.Microphone()\n",
    "\n",
    "    recorder = widgets.Button(description = 'Record')\n",
    "    text = widgets.Text(value = '', placeholder = \"Press 'record' to record speech and convert to text\", layout = widgets.Layout(width = '400px'))\n",
    "    hbox = widgets.HBox([text,recorder])\n",
    "    \n",
    "    out = widgets.Output()\n",
    "    \n",
    "    @out.capture()\n",
    "    def callback(b):\n",
    "        text.value = ''\n",
    "        text.placeholder = 'Recording speech until silence'\n",
    "        with mic as source:\n",
    "            r.adjust_for_ambient_noise(source)\n",
    "            audio = r.listen(source)\n",
    "\n",
    "        text.value = r.recognize_google(audio)\n",
    "        out.clear_output()\n",
    "        display(hbox)\n",
    "    \n",
    "    recorder.on_click(callback)\n",
    "    \n",
    "    display(out)\n",
    "\n",
    "    with out:\n",
    "        display(hbox)"
   ]
  },
  {
   "cell_type": "code",
   "execution_count": 6,
   "id": "734692ae-a2ae-45fc-9876-c253bae6d95f",
   "metadata": {},
   "outputs": [
    {
     "data": {
      "application/vnd.jupyter.widget-view+json": {
       "model_id": "9b995a48b4b9409eb1db87c5821ae808",
       "version_major": 2,
       "version_minor": 0
      },
      "text/plain": [
       "Output()"
      ]
     },
     "metadata": {},
     "output_type": "display_data"
    }
   ],
   "source": [
    "recording()"
   ]
  }
 ],
 "metadata": {
  "kernelspec": {
   "display_name": "Python 3 (ipykernel)",
   "language": "python",
   "name": "python3"
  },
  "language_info": {
   "codemirror_mode": {
    "name": "ipython",
    "version": 3
   },
   "file_extension": ".py",
   "mimetype": "text/x-python",
   "name": "python",
   "nbconvert_exporter": "python",
   "pygments_lexer": "ipython3",
   "version": "3.10.4"
  }
 },
 "nbformat": 4,
 "nbformat_minor": 5
}
