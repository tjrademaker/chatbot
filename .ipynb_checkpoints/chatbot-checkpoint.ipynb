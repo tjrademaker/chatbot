{
 "cells": [
  {
   "cell_type": "markdown",
   "id": "9950716c",
   "metadata": {},
   "source": [
    "# Chatting with GPT-3 using the OpenAI API\n",
    "This chatbot is setup with a prompt to start a conversation on mental health and journaling. The functionality is similar to the prominent ChatGPT https://chat.openai.com/chat except that the prompt to start the conversation is fixed, and one does not need to sign up to OpenAI to use this app."
   ]
  },
  {
   "cell_type": "code",
   "execution_count": null,
   "id": "ea7e47d5",
   "metadata": {},
   "outputs": [],
   "source": [
    "\"\"\"\n",
    "TODO:\n",
    "- UI\n",
    "    - expose parameters in OpenAI API call\n",
    "\n",
    "- DEV\n",
    "    - create class Conversation which updates and displays the entire conversation everytime a new prompt is added\n",
    "    - allow to be called as API by a mobile app??\n",
    "     \n",
    "\"\"\";"
   ]
  },
  {
   "cell_type": "code",
   "execution_count": null,
   "id": "c9672261",
   "metadata": {},
   "outputs": [],
   "source": [
    "import os\n",
    "import openai\n",
    "import itertools\n",
    "import time\n",
    "\n",
    "from IPython.display import clear_output, display, HTML\n",
    "import ipywidgets as widgets"
   ]
  },
  {
   "cell_type": "code",
   "execution_count": null,
   "id": "b2042c36",
   "metadata": {},
   "outputs": [],
   "source": [
    "import warnings\n",
    "warnings.filterwarnings(\"ignore\", category=DeprecationWarning)"
   ]
  },
  {
   "cell_type": "code",
   "execution_count": null,
   "id": "c6f091b5-6b2d-4070-928e-acfe61d68ecd",
   "metadata": {},
   "outputs": [],
   "source": [
    "def pretty_print(x):    \n",
    "    return display( HTML( x.replace(\"\\n\",\"<br>\") ) )"
   ]
  },
  {
   "cell_type": "markdown",
   "id": "cfddd7be-7cb9-4b07-b283-61f2b6560ef0",
   "metadata": {},
   "source": [
    "## OpenAI API key"
   ]
  },
  {
   "cell_type": "code",
   "execution_count": null,
   "id": "aea8d290",
   "metadata": {},
   "outputs": [
    {
     "data": {
      "application/vnd.jupyter.widget-view+json": {
       "model_id": "a2ed30a2026b4b5e934946a49241e1ef",
       "version_major": 2,
       "version_minor": 0
      },
      "text/plain": [
       "Output()"
      ]
     },
     "metadata": {},
     "output_type": "display_data"
    }
   ],
   "source": [
    "# set OpenAI key\n",
    "def set_api_key():\n",
    "\n",
    "    label = widgets.Label(value = 'Create an OpenAI API key at https://beta.openai.com/account/api-keys or enter to continue without one')\n",
    "\n",
    "    API_key = widgets.Password(\n",
    "        value='',#os.getenv('OPENAI_API_KEY'),\n",
    "        placeholder='Enter OpenAI API key',\n",
    "        description='',\n",
    "        disabled=False,\n",
    "    )\n",
    "    \n",
    "    out = widgets.Output()\n",
    "    \n",
    "    @out.capture()\n",
    "    def callback(wdgt):\n",
    "        if API_key.value == '':\n",
    "            b = 'sk-dKv2qSRCjrrAkcDJiZg0T'\n",
    "            c = '3BlbkFJDqwAhijVsfwssmIgwySQ'\n",
    "            openai.api_key = b + c\n",
    "        else:\n",
    "            openai.api_key = API_key.value\n",
    "        \n",
    "        out.clear_output()\n",
    "        pretty_print('API key set')\n",
    "\n",
    "    API_key.on_submit(callback)\n",
    "\n",
    "    display(out)\n",
    "\n",
    "    with out:\n",
    "        display(widgets.VBox([label, API_key]))\n",
    "        API_key.focus()\n",
    "        \n",
    "set_api_key()"
   ]
  },
  {
   "cell_type": "markdown",
   "id": "c16d5a3c-7aab-4ca9-b931-bf4d56c1fe8d",
   "metadata": {},
   "source": [
    "## Conversation"
   ]
  },
  {
   "cell_type": "code",
   "execution_count": null,
   "id": "e8855f69",
   "metadata": {},
   "outputs": [],
   "source": [
    "def get_API_response(prompt, temperature, max_tokens):\n",
    "    \n",
    "    response = openai.Completion.create(\n",
    "        model=\"text-davinci-003\",\n",
    "        prompt=prompt,\n",
    "        temperature=temperature,\n",
    "        max_tokens=max_tokens,\n",
    "        top_p=1,\n",
    "        frequency_penalty=0,\n",
    "        presence_penalty=0.6,\n",
    "        stop=[\" Human:\", \" AI:\"]\n",
    "    )\n",
    "    ai_response = response.choices[0].text\n",
    "    \n",
    "    return ai_response"
   ]
  },
  {
   "cell_type": "code",
   "execution_count": null,
   "id": "3db6527a-7494-4c12-82bd-8b11dc080ba6",
   "metadata": {},
   "outputs": [],
   "source": [
    "def prompt2str(prompts):\n",
    "    \n",
    "    # test that prompts is a dictionary with keys initial, Human and AI\n",
    "    assert len(set(prompts.keys()).intersection(['initial', 'human', 'ai'])) == 3    \n",
    "\n",
    "    x = prompts['initial']\n",
    "    \n",
    "    for human, ai in itertools.zip_longest(prompts['human'], prompts['ai'], fillvalue = ''):\n",
    "        x += '\\n\\nHuman: ' + human + '\\n\\nAI: ' + ai\n",
    "\n",
    "    return x"
   ]
  },
  {
   "cell_type": "code",
   "execution_count": null,
   "id": "d00da587",
   "metadata": {},
   "outputs": [],
   "source": [
    "def get_chatting(vals, debug = False):\n",
    "    \n",
    "    # initialize prompts dictionary to collect conversation\n",
    "    prompts = {'initial': vals['prompt'], 'human': [], 'ai': []}\n",
    "    \n",
    "    # create the output widget\n",
    "    out2 = widgets.Output()\n",
    "    \n",
    "    # create the text box widget\n",
    "    text_box = widgets.Text(\n",
    "        placeholder='Enter your prompt here',\n",
    "        layout = widgets.Layout(width='600px', height='auto') #set width and height\n",
    "    )\n",
    "\n",
    "    # create the reset button widget\n",
    "    reset_button = widgets.Button(description='Reset thread')\n",
    "\n",
    "    # define a function that will be called when the user submits a prompt\n",
    "    def on_submit(text):\n",
    "            \n",
    "        # add human prompt\n",
    "        prompts['human'].append(text_box.value)\n",
    "        \n",
    "        update_output()\n",
    "        \n",
    "        # request AI output\n",
    "        if not debug:\n",
    "            prompts['ai'].append(' ' + get_API_response(prompt2str(prompts), vals['temperature'], vals['max_tokens']))\n",
    "        else:\n",
    "            time.sleep(1)\n",
    "            prompts['ai'].append(' some placeholder text')\n",
    "        \n",
    "        update_output()\n",
    "\n",
    "    # when reset button is clicked restart conversation\n",
    "    @out2.capture()\n",
    "    def on_reset_clicked(b):\n",
    "        out2.clear_output()\n",
    "        start_conversation(vals, debug)        \n",
    "\n",
    "    # define what to do when updating output: clear outputs, print collected prompts and display fresh text widget\n",
    "    @out2.capture()\n",
    "    def update_output():\n",
    "        clear_output()\n",
    "        pretty_print(prompt2str(prompts))\n",
    "        display(hbox)\n",
    "        text_box.value = ''\n",
    "        text_box.focus()\n",
    "    \n",
    "    # when enter is hit, add submitted text to prompt, get AI response, display output\n",
    "    text_box.on_submit(on_submit)\n",
    "    \n",
    "    # call the on_reset_clicked function when the reset_button is clicked\n",
    "    reset_button.on_click(on_reset_clicked)\n",
    "            \n",
    "    # create a horizontal box layout to arrange the text_box and reset_button next to each other\n",
    "    hbox = widgets.HBox([text_box, reset_button])\n",
    "    hbox.layout.width = '600px'\n",
    "\n",
    "    display(out2)\n",
    "    update_output()"
   ]
  },
  {
   "cell_type": "code",
   "execution_count": null,
   "id": "f3a56aec-8985-4616-818e-db235c9fa5c3",
   "metadata": {},
   "outputs": [],
   "source": [
    "def start_conversation(vals, debug = False):\n",
    "    \n",
    "    prompt = widgets.Textarea(\n",
    "        value=vals['prompt'],\n",
    "        placeholder=vals['prompt'],\n",
    "        description='Initial prompt',\n",
    "        disabled=False,\n",
    "        style={'description_width': '100px'},\n",
    "        layout=widgets.Layout(height = '150px', width='600px', overflow_y='auto')\n",
    "    )\n",
    "    \n",
    "    temperature = widgets.FloatSlider(\n",
    "        value=vals['temperature'],\n",
    "        min=0,\n",
    "        max=1.0,\n",
    "        step=0.1,\n",
    "        description='Temperature',\n",
    "        style={'description_width': '100px'},\n",
    "        disabled=False\n",
    "    )\n",
    "\n",
    "    max_tokens = widgets.IntSlider(\n",
    "        value = vals['max_tokens'],\n",
    "        min = 50,\n",
    "        max = 200,\n",
    "        step = 10,\n",
    "        description = 'Maximum tokens',\n",
    "        style={'description_width': '100px'},\n",
    "        disabled = False    \n",
    "    )\n",
    "    \n",
    "    out = widgets.Output()\n",
    "    \n",
    "    @out.capture()\n",
    "    def _on_submit(s):\n",
    "        global vals\n",
    "        vals = {'prompt': prompt.value, 'temperature': temperature.value, 'max_tokens': max_tokens.value}\n",
    "        out.clear_output()\n",
    "        with out:\n",
    "            get_chatting(vals, debug)\n",
    "\n",
    "    # create the reset button widget\n",
    "    submit_button = widgets.Button(description='Start conversation')\n",
    "\n",
    "    # call the on_reset_clicked function when the reset_button is clicked\n",
    "    submit_button.on_click(_on_submit)\n",
    "\n",
    "    display(out)\n",
    "    with out:\n",
    "        display(widgets.VBox([prompt, temperature, max_tokens, submit_button]))"
   ]
  },
  {
   "cell_type": "code",
   "execution_count": null,
   "id": "c0c3d154-550f-444c-a2a4-48dbd8dec47f",
   "metadata": {},
   "outputs": [],
   "source": [
    "initial_prompt = 'This is a conversation between an AI mental health counselor and a young person. The AI is warm, accepting and empathic and gives short, informal answers. The AI believes that journaling is an effective tool for advancing mental health. The AI is likely to recommend structured prompts that help people get started with journaling. \\n\\nAI: Hello, how may I help you today?'\n",
    "\n",
    "vals = {\n",
    "    'prompt': initial_prompt,\n",
    "    'temperature': 0.9,\n",
    "    'max_tokens': 150\n",
    "}"
   ]
  },
  {
   "cell_type": "code",
   "execution_count": null,
   "id": "00112564-bd3c-4dbb-a10d-355cf9cbcf1e",
   "metadata": {},
   "outputs": [
    {
     "data": {
      "application/vnd.jupyter.widget-view+json": {
       "model_id": "0e695c335ecd4a19a6362bb8c7e7d69a",
       "version_major": 2,
       "version_minor": 0
      },
      "text/plain": [
       "Output()"
      ]
     },
     "metadata": {},
     "output_type": "display_data"
    }
   ],
   "source": [
    "start_conversation(vals)#, debug = True)"
   ]
  },
  {
   "cell_type": "markdown",
   "id": "fbd52690-33d7-4b04-8bda-f5bec55422e0",
   "metadata": {},
   "source": [
    "## Disclaimer"
   ]
  },
  {
   "cell_type": "markdown",
   "id": "80c04b0a-917d-42ea-9095-ee4674831506",
   "metadata": {},
   "source": [
    "This is the first iteration of a chatbot that calls the OpenAI API which may be implemented into a mental health app in the future. Sign up to Maple to stay up-to-date https://www.talktomaple.com.\n",
    "\n",
    "Feedback is appreciated and can be send to thomas.jan.rademaker@gmail.com or to any of Maple's social media accounts.\n",
    "\n",
    "Note that none of your conversations are saved in this implementation. OpenAI reviews its API requests, for more info on how the API requests are used we refer to https://openai.com/privacy/. However, through this implementation your requests remain anonymous.\n",
    "\n",
    "This app does not replace interactions with a professional therapist. The intention of the chatbot is to imitate a mental health professional, which it does to some extend as you may experience. However, since the chatbot (GPT-3) is trained on the entire internet, it may start blabbing nonsense when prompted to. "
   ]
  },
  {
   "cell_type": "code",
   "execution_count": null,
   "id": "65822e1b-3da0-4c9c-ab0b-1b1453ec3064",
   "metadata": {},
   "outputs": [],
   "source": []
  },
  {
   "cell_type": "code",
   "execution_count": null,
   "id": "b7071c06-859c-4cbf-9629-1ce60365e238",
   "metadata": {},
   "outputs": [],
   "source": [
    "# @out.capture()\n",
    "def get_chatting(vals, debug = False):\n",
    "\n",
    "    # initialize prompts dictionary to collect conversation\n",
    "    prompts = {'initial': vals['prompt'], 'human': [], 'ai': []}\n",
    "\n",
    "    # create the output widget\n",
    "    out2 = widgets.Output()\n",
    "\n",
    "    # create the text box widget\n",
    "    text_box = widgets.Text(\n",
    "        placeholder='Enter your prompt here',\n",
    "        layout = widgets.Layout(width='600px', height='auto') #set width and height\n",
    "    )\n",
    "\n",
    "    # create the reset button widget\n",
    "    reset_button = widgets.Button(description='Reset thread')\n",
    "\n",
    "    # define a function that will be called when the user submits a prompt\n",
    "    def on_submit(text):\n",
    "\n",
    "        # add human prompt\n",
    "        prompts['human'].append(text_box.value)\n",
    "\n",
    "        update_output()\n",
    "\n",
    "        # request AI output\n",
    "        if not debug:\n",
    "            prompts['ai'].append(' ' + get_API_response(prompt2str(prompts), vals['temperature'], vals['max_tokens']))\n",
    "        else:\n",
    "            time.sleep(1)\n",
    "            prompts['ai'].append(' some placeholder text')\n",
    "\n",
    "        update_output()\n",
    "\n",
    "    # when reset button is clicked restart conversation\n",
    "    @out2.capture()\n",
    "    def on_reset_clicked(b):\n",
    "        out.clear_output()\n",
    "        start_conversation(vals, debug)        \n",
    "\n",
    "    # define what to do when updating output: clear outputs, print collected prompts and display fresh text widget\n",
    "    @out2.capture()\n",
    "    def update_output():\n",
    "        clear_output()\n",
    "        pretty_print(prompt2str(prompts))\n",
    "        display(hbox)\n",
    "        text_box.value = ''\n",
    "        text_box.focus()\n",
    "\n",
    "    # when enter is hit, add submitted text to prompt, get AI response, display output\n",
    "    text_box.on_submit(on_submit)\n",
    "\n",
    "    # call the on_reset_clicked function when the reset_button is clicked\n",
    "    reset_button.on_click(on_reset_clicked)\n",
    "\n",
    "    # create a horizontal box layout to arrange the text_box and reset_button next to each other\n",
    "    hbox = widgets.HBox([text_box, reset_button])\n",
    "    hbox.layout.width = '600px'\n",
    "\n",
    "    display(out2)\n",
    "    update_output()\n"
   ]
  },
  {
   "cell_type": "code",
   "execution_count": null,
   "id": "b2d62cf5-5948-402c-b089-3510ca1d5ed1",
   "metadata": {},
   "outputs": [],
   "source": []
  }
 ],
 "metadata": {
  "kernelspec": {
   "display_name": "Python 3 (ipykernel)",
   "language": "python",
   "name": "python3"
  }
 },
 "nbformat": 4,
 "nbformat_minor": 5
}
