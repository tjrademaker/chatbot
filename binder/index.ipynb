{
 "cells": [
  {
   "cell_type": "code",
   "execution_count": null,
   "id": "a486e8a2",
   "metadata": {},
   "outputs": [],
   "source": [
    "chatbot.ipynb"
   ]
  }
 ],
 "metadata": {
  "kernelspec": {
   "display_name": "Python 3 (ipykernel)",
   "language": "python",
   "name": "python3"
  }
 },
 "nbformat": 4,
 "nbformat_minor": 5
}
