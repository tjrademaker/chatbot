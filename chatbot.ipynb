{
 "cells": [
  {
   "cell_type": "markdown",
   "id": "9950716c",
   "metadata": {},
   "source": [
    "# A dialogue with GPT-3 using the OpenAI API\n",
    "TODO:\n",
    "- DEVELOP\n",
    "    - create class Conversation which updates and displays the entire conversation everytime a new prompt is added\n",
    "    - export conversation when it ends\n",
    "- DEPLOY\n",
    "    - binder\n",
    "    - voila\n",
    "    - heroku\n",
    "- SHARE"
   ]
  },
  {
   "cell_type": "code",
   "execution_count": null,
   "id": "c9672261",
   "metadata": {},
   "outputs": [],
   "source": [
    "import os\n",
    "import openai\n",
    "import itertools\n",
    "import time\n",
    "from getpass import getpass\n",
    "\n",
    "from IPython.display import clear_output, display, HTML\n",
    "import ipywidgets as widgets"
   ]
  },
  {
   "cell_type": "code",
   "execution_count": null,
   "id": "1832cc31",
   "metadata": {},
   "outputs": [
    {
     "data": {
      "text/html": [
       "<style>.container { width:100% !important; }</style>"
      ],
      "text/plain": [
       "<IPython.core.display.HTML object>"
      ]
     },
     "metadata": {},
     "output_type": "display_data"
    }
   ],
   "source": [
    "display(HTML(\"<style>.container { width:100% !important; }</style>\"))"
   ]
  },
  {
   "cell_type": "code",
   "execution_count": null,
   "id": "b2042c36",
   "metadata": {},
   "outputs": [],
   "source": [
    "import warnings\n",
    "warnings.filterwarnings(\"ignore\", category=DeprecationWarning)"
   ]
  },
  {
   "cell_type": "code",
   "execution_count": null,
   "id": "aea8d290",
   "metadata": {},
   "outputs": [
    {
     "name": "stdin",
     "output_type": "stream",
     "text": [
      "Create an OpenAI API key at https://beta.openai.com/account/api-keys and paste here:\n",
      " ········\n"
     ]
    }
   ],
   "source": [
    "# set OpenAI key\n",
    "# openai.api_key = os.getenv('OPENAI_API_KEY')\n",
    "# if openai.api_key is None:\n",
    "openai.api_key = getpass('Create an OpenAI API key at https://beta.openai.com/account/api-keys and paste here:\\n')"
   ]
  },
  {
   "cell_type": "code",
   "execution_count": null,
   "id": "e8855f69",
   "metadata": {},
   "outputs": [],
   "source": [
    "def get_API_response(prompt):\n",
    "    \n",
    "    response = openai.Completion.create(\n",
    "        model=\"text-davinci-003\",\n",
    "        prompt=prompt,\n",
    "        temperature=0.9,\n",
    "        max_tokens=150,\n",
    "        top_p=1,\n",
    "        frequency_penalty=0,\n",
    "        presence_penalty=0.6,\n",
    "        stop=[\" Human:\", \" AI:\"]\n",
    "    )\n",
    "    ai_response = response.choices[0].text\n",
    "    \n",
    "    return ai_response"
   ]
  },
  {
   "cell_type": "code",
   "execution_count": null,
   "id": "3db6527a-7494-4c12-82bd-8b11dc080ba6",
   "metadata": {},
   "outputs": [],
   "source": [
    "def prompt2str(prompts):\n",
    "    \n",
    "    # test that prompts is a dictionary with keys initial, Human and AI\n",
    "    assert len(set(prompts.keys()).intersection(['initial', 'human', 'ai'])) == 3    \n",
    "\n",
    "    x = prompts['initial']\n",
    "    \n",
    "    for human, ai in itertools.zip_longest(prompts['human'], prompts['ai'], fillvalue = ''):\n",
    "        x += '\\n\\nHuman: ' + human + '\\n\\nAI: ' + ai\n",
    "\n",
    "    return x"
   ]
  },
  {
   "cell_type": "code",
   "execution_count": null,
   "id": "6284af42-e123-4f17-94ad-3bc690af9d5b",
   "metadata": {},
   "outputs": [],
   "source": [
    "def pretty_print(x):    \n",
    "    return display( HTML( x.replace(\"\\n\",\"<br>\") ) )"
   ]
  },
  {
   "cell_type": "code",
   "execution_count": null,
   "id": "d00da587",
   "metadata": {},
   "outputs": [],
   "source": [
    "def get_chatting(initial = '', debug = False):\n",
    "    \n",
    "    # initialize prompts dictionary to collect conversation\n",
    "    prompts = {'initial': initial, 'human': [], 'ai': []}\n",
    "    \n",
    "    # create the output widget\n",
    "    out = widgets.Output()\n",
    "    \n",
    "    # create the text box widget\n",
    "    text_box = widgets.Text(\n",
    "        placeholder='Enter your prompt here',\n",
    "        layout = widgets.Layout(width='1000px', height='auto') #set width and height\n",
    "    )\n",
    "\n",
    "    # create the reset button widget\n",
    "    reset_button = widgets.Button(description='Reset thread')\n",
    "\n",
    "    # define a function that will be called when the user submits a prompt\n",
    "    def on_submit(text):\n",
    "            \n",
    "        # add human prompt\n",
    "        prompts['human'].append(text_box.value)\n",
    "        \n",
    "        update_output()\n",
    "        \n",
    "        # request AI output\n",
    "        if not debug:\n",
    "            prompts['ai'].append(' ' + get_API_response(prompt2str(prompts)))\n",
    "        else:\n",
    "            time.sleep(1)\n",
    "            prompts['ai'].append(' some placeholder text')\n",
    "        \n",
    "        update_output()\n",
    "\n",
    "    # when reset button is clicked restart conversation\n",
    "    def on_reset_clicked(b):\n",
    "        \n",
    "        prompts['human'] = []\n",
    "        prompts['ai'] = []\n",
    "        \n",
    "        update_output()\n",
    "\n",
    "    # define what to do when updating output: clear outputs, print collected prompts and display fresh text widget\n",
    "    @out.capture()\n",
    "    def update_output():\n",
    "        clear_output()\n",
    "        pretty_print(prompt2str(prompts))\n",
    "        display(hbox)\n",
    "        text_box.value = ''\n",
    "        text_box.focus()\n",
    "    \n",
    "    # when enter is hit, add submitted text to prompt, get AI response, display output\n",
    "    text_box.on_submit(on_submit)\n",
    "    \n",
    "    # call the on_reset_clicked function when the reset_button is clicked\n",
    "    reset_button.on_click(on_reset_clicked)\n",
    "            \n",
    "    # create a horizontal box layout to arrange the text_box and reset_button next to each other\n",
    "    hbox = widgets.HBox([text_box, reset_button])\n",
    "    hbox.layout.width = '1000px'\n",
    "\n",
    "    display(out)\n",
    "    update_output()"
   ]
  },
  {
   "cell_type": "code",
   "execution_count": null,
   "id": "4f96c994",
   "metadata": {},
   "outputs": [
    {
     "data": {
      "application/vnd.jupyter.widget-view+json": {
       "model_id": "5f259e87dce64eed8dc9296e01acdcf5",
       "version_major": 2,
       "version_minor": 0
      },
      "text/plain": [
       "Output()"
      ]
     },
     "metadata": {},
     "output_type": "display_data"
    }
   ],
   "source": [
    "initial_prompt = \"\"\"The following is a counseling session between an AI mental health professional and a human. The AI is warm, accepting and empathic. It is a strong advocate of journaling and is of the opinion that journaling is an effective tool for advancing mental health. The AI is likely to recommend intelligent prompts to help people get started with journaling.\n",
    "\n",
    "AI: Hello, how may I help you today?\"\"\"\n",
    "\n",
    "get_chatting(initial_prompt)"
   ]
  },
  {
   "cell_type": "code",
   "execution_count": null,
   "id": "00112564-bd3c-4dbb-a10d-355cf9cbcf1e",
   "metadata": {},
   "outputs": [],
   "source": []
  }
 ],
 "metadata": {
  "kernelspec": {
   "display_name": "Python 3 (ipykernel)",
   "language": "python",
   "name": "python3"
  }
 },
 "nbformat": 4,
 "nbformat_minor": 5
}
